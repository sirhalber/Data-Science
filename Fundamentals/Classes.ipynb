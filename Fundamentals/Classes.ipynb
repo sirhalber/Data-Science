{
 "cells": [
  {
   "cell_type": "code",
   "execution_count": null,
   "id": "c8e83015-f0f9-4c44-83af-eb8b3a217b55",
   "metadata": {},
   "outputs": [],
   "source": [
    "#Class\n",
    "class Facade:\n",
    "  pass\n",
    "\n",
    "facade_1 = Facade()\n",
    "facade_1_type = type(facade_1)\n",
    "print(facade_1_type)"
   ]
  },
  {
   "cell_type": "code",
   "execution_count": null,
   "id": "3731fd3f-0981-4f6b-b7cf-b62e045ceac8",
   "metadata": {},
   "outputs": [],
   "source": [
    "#Methods\n",
    "class Rules:\n",
    "  def washing_brushes(self):\n",
    "    return \"Point bristles towards the basin while washing your brushes.\"\n"
   ]
  },
  {
   "cell_type": "code",
   "execution_count": null,
   "id": "a8bf97c2-eac2-4660-b132-bb248faad2b5",
   "metadata": {},
   "outputs": [],
   "source": [
    "#Methods with arguments\n",
    "class Circle:\n",
    "  pi = 3.14\n",
    "  def area(self, radius):\n",
    "    return Circle.pi * radius ** 2\n",
    "circle = Circle()\n",
    "pizza_area = circle.area(12/2)\n",
    "teaching_table_area = circle.area(36/2)\n",
    "round_room_area = circle.area(11460/2)"
   ]
  },
  {
   "cell_type": "code",
   "execution_count": null,
   "id": "aed80d2e-99d9-4e9b-b775-a35eea73a2d0",
   "metadata": {},
   "outputs": [],
   "source": [
    "#Constructors\n",
    "class Circle:\n",
    "  pi = 3.14\n",
    "  \n",
    "  # Add constructor here:\n",
    "  def __init__(self, diameter):\n",
    "    print(\"New circle with diameter: {diameter}\".format(diameter=diameter))\n",
    "    \n",
    "teaching_table = Circle(36)"
   ]
  },
  {
   "cell_type": "code",
   "execution_count": null,
   "id": "52351648-967b-44de-b23c-b04688e86958",
   "metadata": {},
   "outputs": [],
   "source": [
    "#Instance Variables\n",
    "class Store:\n",
    "  pass\n",
    "\n",
    "alternative_rocks = Store()\n",
    "isabelles_ices = Store()\n",
    "\n",
    "alternative_rocks.store_name = \"Alternative Rocks\"\n",
    "isabelles_ices.store_name = \"Isabelle's Ices\""
   ]
  },
  {
   "cell_type": "code",
   "execution_count": null,
   "id": "ab571b8a-dd02-41f9-a677-4b68db542650",
   "metadata": {
    "tags": []
   },
   "outputs": [],
   "source": [
    "#Attribute functions\n",
    "can_we_count_it = [{'s': False}, \"sassafrass\", 18, [\"a\", \"c\", \"s\", \"d\", \"s\"]]\n",
    "\n",
    "for element in can_we_count_it:\n",
    "  if hasattr(element, \"count\"):\n",
    "    print(str(type(element)) + \" has the count attribute!\")\n",
    "  else:\n",
    "    print(str(type(element)) + \" does not have the count attribute :(\")"
   ]
  },
  {
   "cell_type": "code",
   "execution_count": null,
   "id": "51cc01bd-2b2e-44da-809e-3c1767455f8d",
   "metadata": {},
   "outputs": [],
   "source": [
    "#Self\n",
    "class Circle:\n",
    "  pi = 3.14\n",
    "  def __init__(self, diameter):\n",
    "    print(\"Creating circle with diameter {d}\".format(d=diameter))\n",
    "    # Add assignment for self.radius here:\n",
    "    self.radius = diameter / 2\n",
    "  def circumference(self):\n",
    "    return 2 * self.pi * self.radius\n",
    "\n",
    "\n",
    "medium_pizza = Circle(12)\n",
    "teaching_table = Circle(36)\n",
    "round_room = Circle(11460)\n",
    "\n",
    "print(medium_pizza.circumference())\n",
    "print(teaching_table.circumference())\n",
    "print(round_room.circumference())\n"
   ]
  },
  {
   "cell_type": "code",
   "execution_count": null,
   "id": "77f0054a-d3ce-4f95-9d8f-0483dadd60ae",
   "metadata": {},
   "outputs": [],
   "source": [
    "#String Representation\n",
    "class Circle:\n",
    "  pi = 3.14\n",
    "  \n",
    "  def __init__(self, diameter):\n",
    "    self.radius = diameter / 2\n",
    "  \n",
    "  def area(self):\n",
    "    return self.pi * self.radius ** 2\n",
    "  \n",
    "  def circumference(self):\n",
    "    return self.pi * 2 * self.radius\n",
    "  \n",
    "  def __repr__(self):\n",
    "    return \"Circle with radius {radius}\".format(radius = self.radius)\n",
    "    \n",
    "\n",
    "medium_pizza = Circle(12)\n",
    "teaching_table = Circle(36)\n",
    "round_room = Circle(11460)\n",
    "\n",
    "print(medium_pizza, teaching_table, round_room)"
   ]
  },
  {
   "cell_type": "code",
   "execution_count": null,
   "id": "ac1c78f1-7fdd-4740-89cb-e6468d5b7345",
   "metadata": {},
   "outputs": [],
   "source": [
    "#Review:\n",
    "class Student:\n",
    " \n",
    "  def __init__(self, name, year):\n",
    "    self.name = name\n",
    "    self.year = year\n",
    "    self.grades = []\n",
    "\n",
    "  def add_grade(self, grade):\n",
    "    if type(grade) is Grade:\n",
    "      self.grades.append(grade)  \n",
    "\n",
    "class Grade:\n",
    "  minimum_passing = 65\n",
    "  def __init__(self, score):\n",
    "    self.score = score\n",
    "\n",
    "roger = Student(\"Roger van der Weyden\", 10)\n",
    "sandro = Student(\"Sandro Botticelli\", 12)\n",
    "pieter = Student(\"Pieter Bruegel the Elder\", 8)\n",
    "pieter.add_grade(Grade(100))"
   ]
  }
 ],
 "metadata": {
  "kernelspec": {
   "display_name": "Python 3 (ipykernel)",
   "language": "python",
   "name": "python3"
  },
  "language_info": {
   "codemirror_mode": {
    "name": "ipython",
    "version": 3
   },
   "file_extension": ".py",
   "mimetype": "text/x-python",
   "name": "python",
   "nbconvert_exporter": "python",
   "pygments_lexer": "ipython3",
   "version": "3.9.12"
  }
 },
 "nbformat": 4,
 "nbformat_minor": 5
}
